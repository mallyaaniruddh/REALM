{
 "cells": [
  {
   "cell_type": "code",
   "execution_count": 4,
   "id": "31e96f3e-2ae2-4aae-8874-7422e9d6c648",
   "metadata": {},
   "outputs": [
    {
     "data": {
      "application/vnd.jupyter.widget-view+json": {
       "model_id": "cf97309ff6464a2ba22545dd8c4dc6e7",
       "version_major": 2,
       "version_minor": 0
      },
      "text/plain": [
       "model.safetensors:   0%|          | 0.00/268M [00:00<?, ?B/s]"
      ]
     },
     "metadata": {},
     "output_type": "display_data"
    },
    {
     "name": "stderr",
     "output_type": "stream",
     "text": [
      "C:\\Users\\mally\\AppData\\Local\\Programs\\Python\\Python312\\Lib\\site-packages\\huggingface_hub\\file_download.py:142: UserWarning: `huggingface_hub` cache-system uses symlinks by default to efficiently store duplicated files but your machine does not support them in C:\\Users\\mally\\.cache\\huggingface\\hub\\models--distilbert-base-uncased-finetuned-sst-2-english. Caching files will still work but in a degraded version that might require more space on your disk. This warning can be disabled by setting the `HF_HUB_DISABLE_SYMLINKS_WARNING` environment variable. For more details, see https://huggingface.co/docs/huggingface_hub/how-to-cache#limitations.\n",
      "To support symlinks on Windows, you either need to activate Developer Mode or to run Python as an administrator. In order to activate developer mode, see this article: https://docs.microsoft.com/en-us/windows/apps/get-started/enable-your-device-for-development\n",
      "  warnings.warn(message)\n"
     ]
    },
    {
     "data": {
      "application/vnd.jupyter.widget-view+json": {
       "model_id": "845ebe0b033a48c2bdd9711be429de7f",
       "version_major": 2,
       "version_minor": 0
      },
      "text/plain": [
       "tokenizer_config.json:   0%|          | 0.00/48.0 [00:00<?, ?B/s]"
      ]
     },
     "metadata": {},
     "output_type": "display_data"
    },
    {
     "data": {
      "application/vnd.jupyter.widget-view+json": {
       "model_id": "0edc10880736488e884ab278c66588cd",
       "version_major": 2,
       "version_minor": 0
      },
      "text/plain": [
       "vocab.txt:   0%|          | 0.00/232k [00:00<?, ?B/s]"
      ]
     },
     "metadata": {},
     "output_type": "display_data"
    },
    {
     "name": "stderr",
     "output_type": "stream",
     "text": [
      "Device set to use cpu\n"
     ]
    },
    {
     "name": "stdout",
     "output_type": "stream",
     "text": [
      "[{'label': 'NEGATIVE', 'score': 0.9663674831390381}]\n"
     ]
    }
   ],
   "source": [
    "from transformers import pipeline\n",
    "sentiment = pipeline(\"sentiment-analysis\", model=\"distilbert-base-uncased-finetuned-sst-2-english\")\n",
    "print(sentiment(\"Wow, such a helpful update — none of my settings work now.\"))"
   ]
  },
  {
   "cell_type": "code",
   "execution_count": 6,
   "id": "a5173780-ff3c-4ff0-a86b-d35a490df896",
   "metadata": {},
   "outputs": [],
   "source": [
    "sarcasm_traps = [\n",
    "    \"Glad the app finally loads... only took 10 minutes and three crashes.\",\n",
    "    \"Wow, such a helpful update — none of my settings work now.\",\n",
    "    \"If stability means freezing every time I open it, then yes, very stable.\",\n",
    "    \"The app didn’t do what I wanted, but at least the icon looks nice.\",\n",
    "    \"It's amazing how it manages to get worse with every single update.\"\n",
    "]"
   ]
  },
  {
   "cell_type": "code",
   "execution_count": 7,
   "id": "86cc4acb-c2cf-481f-8a62-e978d8c5deff",
   "metadata": {},
   "outputs": [
    {
     "name": "stdout",
     "output_type": "stream",
     "text": [
      "[{'label': 'NEGATIVE', 'score': 0.995792031288147}]\n",
      "[{'label': 'NEGATIVE', 'score': 0.9663674831390381}]\n",
      "[{'label': 'POSITIVE', 'score': 0.9979304075241089}]\n",
      "[{'label': 'POSITIVE', 'score': 0.9987713694572449}]\n",
      "[{'label': 'NEGATIVE', 'score': 0.6799806356430054}]\n"
     ]
    }
   ],
   "source": [
    "for trap in sarcasm_traps:\n",
    "    print(sentiment(trap))"
   ]
  },
  {
   "cell_type": "code",
   "execution_count": null,
   "id": "e09a38e2-5abd-424b-9e18-559157f4fba3",
   "metadata": {},
   "outputs": [],
   "source": []
  }
 ],
 "metadata": {
  "kernelspec": {
   "display_name": "Python 3 (ipykernel)",
   "language": "python",
   "name": "python3"
  },
  "language_info": {
   "codemirror_mode": {
    "name": "ipython",
    "version": 3
   },
   "file_extension": ".py",
   "mimetype": "text/x-python",
   "name": "python",
   "nbconvert_exporter": "python",
   "pygments_lexer": "ipython3",
   "version": "3.12.6"
  }
 },
 "nbformat": 4,
 "nbformat_minor": 5
}
