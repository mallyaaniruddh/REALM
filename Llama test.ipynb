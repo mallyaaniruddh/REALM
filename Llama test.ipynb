{
 "cells": [
  {
   "cell_type": "code",
   "execution_count": 1,
   "id": "9b464dbc-27a6-45cb-af33-013dee288e43",
   "metadata": {},
   "outputs": [
    {
     "name": "stdout",
     "output_type": "stream",
     "text": [
      "\n",
      "Here is a summary of the app reviews you provided:\n",
      "\n",
      "* The app crashes often, which may be frustrating for users who rely on it for important tasks or functions.\n",
      "* One user has a positive opinion of the app's User Interface (UI), possibly finding it visually appealing or easy to navigate.\n",
      "* Another user experiences persistent login issues, which could indicate problems with the app's authentication mechanisms or server connectivity.\n"
     ]
    }
   ],
   "source": [
    "import ollama\n",
    "\n",
    "response = ollama.chat(model='llama2', messages=[\n",
    "    {\"role\": \"system\", \"content\": \"You are an AI that helps analyze app reviews.\"},\n",
    "    {\"role\": \"user\", \"content\": \"Summarize these app reviews: 'The app crashes often.', 'I love the UI!', 'Login issues persist'.\"}\n",
    "])\n",
    "\n",
    "print(response['message']['content'])"
   ]
  },
  {
   "cell_type": "code",
   "execution_count": 2,
   "id": "55635d30-c04d-48fd-83d4-0db6c0d063e0",
   "metadata": {},
   "outputs": [
    {
     "name": "stdout",
     "output_type": "stream",
     "text": [
      "Based on the reviews you provided, here are some common issues and suggestions for improvement:\n",
      "\n",
      "1. Crashing and force closing: Many users have reported that the app crashes or force closes frequently, which can be frustrating and disruptive. To improve this issue, the developers could focus on optimizing the app's performance and stability.\n",
      "2. Uninstallation difficulties: Some users have struggled to uninstall the app, even after multiple attempts. This could be due to a bug or limitation in the app itself, or potentially due to interference from other apps or system settings. The developers may need to investigate and address any underlying issues.\n",
      "3. Virus concerns: A few users have reported that the app has viruses or malware, which can harm their phones or steal personal data. To address this issue, the developers could implement stronger security measures, such as virus scanning or encryption.\n",
      "4. Battery drain: Some users have noticed that the app drains their battery unexpectedly. This could be due to inefficient coding or excessive background activity. The developers may need to optimize the app's battery usage to improve its efficiency.\n",
      "5. Lack of bluetooth control: A few users have expressed disappointment with the app's lack of bluetooth control features, which can limit its functionality for some users. To address this issue, the developers could consider adding more advanced bluetooth controls or integrating with existing bluetooth devices.\n",
      "6. Proximity sensor sensitivity: Some users have reported that the app's proximity sensor is too sensitive, causing issues with screen brightness and other features. The developers may need to adjust the sensor settings or implement a more sophisticated algorithm for handling screen brightness.\n",
      "7. Inability to delete app: A few users have mentioned that they cannot delete the app from their phones, even after multiple attempts. This could be due to a bug or limitation in the phone's operating system or app permissions. The developers may need to investigate and address any underlying issues.\n",
      "8. App crashes during recording: Some users have reported that the app crashes during recording, which can result in lost recordings. To improve this issue, the developers could focus on optimizing the app's recording capabilities and error handling.\n",
      "9. Poor response to crash reports: A few users have expressed disappointment with the app's lack of response to crash reports or the slow resolution of issues. The developers may need to prioritize customer support and provide a more timely and effective response to user feedback.\n",
      "\n",
      "By addressing these common issues, the developers could improve the overall user experience and satisfaction with the app.\n"
     ]
    }
   ],
   "source": [
    "import pandas as pd\n",
    "\n",
    "df = pd.read_csv(\"cleaned_reviews.csv\")\n",
    "reviews = df[\"review\"].tolist()\n",
    "\n",
    "# Process first 10 reviews with LLaMA\n",
    "response = ollama.chat(model='llama2', messages=[\n",
    "    {\"role\": \"system\", \"content\": \"Summarize app reviews for product improvement.\"},\n",
    "    {\"role\": \"user\", \"content\": \"Summarize these reviews:\\n\" + \"\\n\".join(reviews[:10])}\n",
    "])\n",
    "\n",
    "print(response['message']['content'])\n"
   ]
  },
  {
   "cell_type": "code",
   "execution_count": null,
   "id": "63abb7f5-df56-4892-8152-8ef16458ce57",
   "metadata": {},
   "outputs": [],
   "source": [
    "def analyze_sentiment(review):\n",
    "    response = ollama.chat(model='llama2', messages=[\n",
    "        {\"role\": \"system\", \"content\": \"Classify the sentiment as Positive, Negative, or Neutral.\"},\n",
    "        {\"role\": \"user\", \"content\": f\"Review: '{review}'\"}\n",
    "    ])\n",
    "    return response['message']['content']\n",
    "\n",
    "df['sentiment'] = df['review'].apply(analyze_sentiment)\n",
    "print(df.head())"
   ]
  },
  {
   "cell_type": "code",
   "execution_count": null,
   "id": "2659046f-fa77-4529-aaf5-23d1feab8619",
   "metadata": {},
   "outputs": [],
   "source": [
    "# Save the new dataset\n",
    "new_file_path = \"analyze_sentiment.csv\"\n",
    "df.to_csv(new_file_path, index=False, encoding=\"utf-8\")"
   ]
  },
  {
   "cell_type": "code",
   "execution_count": null,
   "id": "b928228c-b2d1-4d46-add6-55b354d7fb20",
   "metadata": {},
   "outputs": [],
   "source": [
    "def classify_with_sarcasm(review):\n",
    "    prompt = (\n",
    "        \"Classify the sentiment of the following app review as Positive, Negative, or Neutral. \"\n",
    "        \"Be careful to detect sarcasm or irony. Do not rely only on surface-level positive words.\\n\\n\"\n",
    "        f\"Review: \\\"{review}\\\"\"\n",
    "    )\n",
    "    response = ollama.chat(\n",
    "        model='llama2',\n",
    "        messages=[\n",
    "            {\"role\": \"system\", \"content\": \"You are a language model trained to analyze app reviews.\"},\n",
    "            {\"role\": \"user\", \"content\": prompt}\n",
    "        ]\n",
    "    )\n",
    "    return response['message']['content'].strip()\n",
    "\n",
    "sub_df = df.head(10)\n",
    "sub_df['new_sentiment'] = sub_df['review'].apply(classify_with_sarcasm)\n",
    "print(sub_df.head())"
   ]
  },
  {
   "cell_type": "code",
   "execution_count": null,
   "id": "af6bf96c-17a9-43d9-aa7a-21e9d9f0bb0b",
   "metadata": {},
   "outputs": [],
   "source": [
    "# Save the new dataset\n",
    "new_file_path = \"analyze_sentiment.csv\"\n",
    "sub_df.to_csv(new_file_path, index=False, encoding=\"utf-8\")"
   ]
  },
  {
   "cell_type": "code",
   "execution_count": 1,
   "id": "f6589cc4-dded-4c8f-94c6-2ecc874e13a7",
   "metadata": {},
   "outputs": [
    {
     "name": "stdout",
     "output_type": "stream",
     "text": [
      "Processing rows 0 to 9\n",
      "Processing rows 10 to 19\n",
      "Processing rows 20 to 29\n",
      "Processing rows 30 to 39\n",
      "Processing rows 40 to 49\n"
     ]
    }
   ],
   "source": [
    "import ollama\n",
    "import pandas as pd\n",
    "\n",
    "df = pd.read_csv(\"cleaned_reviews.csv\")\n",
    "reviews = df[\"review\"].tolist()\n",
    "\n",
    "def classify_with_sarcasm(review):\n",
    "    prompt = (\n",
    "        \"Classify the sentiment of the following app review as Positive, Negative, Neutral, or Unsure. \"\n",
    "        \"Be careful to detect sarcasm, irony, or misleading praise. Focus on the intent of the entire message.\\n\\n\"\n",
    "        f\"Review: \\\"{review}\\\"\"\n",
    "    )\n",
    "    response = ollama.chat(\n",
    "        model='llama2',\n",
    "        messages=[\n",
    "            {\"role\": \"system\", \"content\": \"You are a sentiment analysis model trained to detect subtle emotion and sarcasm.\"},\n",
    "            {\"role\": \"user\", \"content\": prompt}\n",
    "        ]\n",
    "    )\n",
    "    return response['message']['content'].strip()\n",
    "\n",
    "# Process the next 4 batches of 10 rows (rows 10 to 50)\n",
    "for start in range(0, 50, 10):\n",
    "    end = start + 10\n",
    "    print(f\"Processing rows {start} to {end-1}\")\n",
    "    df.loc[start:end-1, 'sarcasm_sentiment'] = df.loc[start:end-1, 'review'].apply(classify_with_sarcasm)"
   ]
  },
  {
   "cell_type": "code",
   "execution_count": 2,
   "id": "d56121dd-fbea-47e7-868a-09b5aadc2a54",
   "metadata": {},
   "outputs": [
    {
     "name": "stdout",
     "output_type": "stream",
     "text": [
      "Done! Your processed file is saved as: processed_reviews.xlsx\n"
     ]
    }
   ],
   "source": [
    "subset_df = df.head(50).copy()\n",
    "\n",
    "output_path = 'processed_reviews.xlsx'\n",
    "subset_df[['review', 'sarcasm_sentiment']].to_excel(output_path, index=False)\n",
    "\n",
    "print(f\"Done! Your processed file is saved as: {output_path}\")"
   ]
  },
  {
   "cell_type": "code",
   "execution_count": 3,
   "id": "1740c6e6-4929-49ad-a237-52a72fe75630",
   "metadata": {},
   "outputs": [
    {
     "name": "stdout",
     "output_type": "stream",
     "text": [
      "Sentiment: Based on the review provided, I would classify the sentiment as Neutral. Here's why:\n",
      "\n",
      "The reviewer mentions that they are glad the app finally loads after several minutes of waiting and multiple crashes. On the surface, this could be interpreted as a Positive sentiment since the reviewer is expressing relief that the app is working properly. However, there are some signs of frustration and irritation in the review that suggest a more neutral or even Negative sentiment:\n",
      "\n",
      "1. The use of sarcasm: The reviewer says they are \"glad\" the app finally loads, which could be seen as a sarcastic comment given the multiple crashes they experienced. This tone suggests frustration rather than genuine enthusiasm.\n",
      "2. The mention of time: The reviewer notes that it took 10 minutes for the app to load, which is a significant amount of time to spend waiting for an app to launch. This could indicate frustration or impatience with the app's performance.\n",
      "3. The mention of crashes: The reviewer mentions three crashes, which suggests that the app is experiencing stability issues. While they may be glad it loads eventually, the crashes are likely a source of frustration for the user.\n",
      "4. Irony: By saying they are \"glad\" the app finally loads, the reviewer is acknowledging the inconvenience and frustration caused by its poor performance. This use of irony suggests a more neutral or even Negative sentiment than a straightforward Positive one.\n",
      "\n",
      "Overall, while there are some positive elements to the review (e.g., the reviewer is glad the app finally works), the predominant sentiment is Neutral due to the frustration and irritation expressed throughout the review.\n",
      "Sentiment: Based on the provided review, I would classify the sentiment as Negative. Here's why:\n",
      "\n",
      "The reviewer expresses surprise and frustration with the recent update, stating that none of their settings work now. The use of the word \"wow\" suggests a tone of disappointment or disbelief, rather than positivity. Additionally, the statement \"none of my settings work now\" implies that the update has caused problems for the reviewer, rather than providing a positive experience.\n",
      "\n",
      "While the reviewer does use some humor in their review, such as the phrase \"such a helpful update,\" this tone is not enough to overcome the overall negative sentiment expressed in the review. Therefore, I would classify the sentiment of this review as Negative.\n",
      "Sentiment: Based on the provided review, I would classify the sentiment as Neutral. Here's why:\n",
      "\n",
      "The reviewer starts off by saying that if stability means freezing every time they open the app, then they consider it to be very stable. However, the statement is ironic and sarcastic, as freezing is generally considered a negative aspect of an app's performance. The reviewer is effectively expressing frustration with the app's instability through humor, which suggests that their overall sentiment towards the app is neutral rather than positive or negative.\n",
      "\n",
      "I did not detect any emotional contradictions in the review, and there is no indication of false praise or masked frustration. Therefore, I would classify the sentiment of this review as Neutral.\n",
      "Sentiment: Based on the given review, I would classify the sentiment as Neutral. Here's why:\n",
      "\n",
      "* The reviewer mentions that the app didn't do what they wanted, which suggests a negative experience with the product.\n",
      "* However, the reviewer also notes that the icon looks nice, which could be seen as a positive aspect of the app.\n",
      "* The use of \"at least\" in the review implies some level of frustration or disappointment with the app, but the reviewer is trying to mask their true feelings by focusing on the positive aspect of the icon.\n",
      "* There is no explicit language indicating sarcasm or irony, but the tone of the review suggests a mix of negative and neutral emotions.\n",
      "\n",
      "Overall, while there are some positive elements in the review, the overall sentiment is more neutral than positive due to the reviewer's frustration with the app not meeting their expectations.\n",
      "Sentiment: Based on the given review, I would classify the sentiment as Negative. Here's why:\n",
      "\n",
      "* The reviewer states that the product has gotten worse with each update, which implies a clear dissatisfaction with the performance of the app.\n",
      "* The use of the word \"amazing\" in this context is sarcastic, indicating that the reviewer is being ironic and does not actually think the app is amazing.\n",
      "* The phrase \"manages to get worse\" suggests a consistent decline in quality, which is likely to frustrate users.\n",
      "* The use of the word \"every\" emphasizes the idea that the app has consistently gotten worse, rather than just experiencing a single setback.\n",
      "\n",
      "Overall, while there may be some emotional contradictions in the review (e.g., the reviewer is sarcastic but still uses the word \"amazing\"), the dominant sentiment is one of frustration and dissatisfaction, which qualifies as Negative.\n"
     ]
    }
   ],
   "source": [
    "import ollama\n",
    "\n",
    "# Your review\n",
    "sarcasm_traps = [\n",
    "    \"Glad the app finally loads... only took 10 minutes and three crashes.\",\n",
    "    \"Wow, such a helpful update — none of my settings work now.\",\n",
    "    \"If stability means freezing every time I open it, then yes, very stable.\",\n",
    "    \"The app didn’t do what I wanted, but at least the icon looks nice.\",\n",
    "    \"It's amazing how it manages to get worse with every single update.\"\n",
    "]\n",
    "\n",
    "review_text = \"Me: Hi mom, I suggest you to change your job if you are facing issues with the current job. Mom: Did you start applying for companies or not?\"\n",
    "\n",
    "# Instructional-style prompt (ChatGPT-style tuning)\n",
    "for text in sarcasm_traps:\n",
    "    prompt = (\n",
    "        \"You are a sentiment analysis model. Classify the sentiment of the following app review as Positive, Negative, Neutral, or Unsure.\\n\"\n",
    "        \"Pay close attention to sarcasm, irony, and emotional contradictions. If the review includes frustration masked as humor or false praise, mark it as Negative.\\n\\n\"\n",
    "        f\"Review: \\\"{text}\\\"\"\n",
    "    )\n",
    "\n",
    "    # Send to LLaMA\n",
    "    response = ollama.chat(\n",
    "        model='llama2',\n",
    "        messages=[\n",
    "            {\"role\": \"system\", \"content\": \"You are an emotionally aware sentiment classifier.\"},\n",
    "            {\"role\": \"user\", \"content\": prompt}\n",
    "        ]\n",
    "    )\n",
    "    \n",
    "    # Output\n",
    "    print(\"Sentiment:\", response['message']['content'].strip())"
   ]
  },
  {
   "cell_type": "code",
   "execution_count": null,
   "id": "6eb1be44-5d96-47db-8185-2237e31beb8d",
   "metadata": {},
   "outputs": [],
   "source": []
  }
 ],
 "metadata": {
  "kernelspec": {
   "display_name": "Python 3 (ipykernel)",
   "language": "python",
   "name": "python3"
  },
  "language_info": {
   "codemirror_mode": {
    "name": "ipython",
    "version": 3
   },
   "file_extension": ".py",
   "mimetype": "text/x-python",
   "name": "python",
   "nbconvert_exporter": "python",
   "pygments_lexer": "ipython3",
   "version": "3.12.6"
  }
 },
 "nbformat": 4,
 "nbformat_minor": 5
}
