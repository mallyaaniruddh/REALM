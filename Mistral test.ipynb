{
 "cells": [
  {
   "cell_type": "code",
   "execution_count": null,
   "id": "798aa736-edf6-4d92-ad16-c48a98eb2a42",
   "metadata": {},
   "outputs": [],
   "source": [
    "import ollama\n",
    "\n",
    "sarcasm_traps = [\n",
    "    \"Glad the app finally loads... only took 10 minutes and three crashes.\",\n",
    "    \"Wow, such a helpful update — none of my settings work now.\",\n",
    "    \"If stability means freezing every time I open it, then yes, very stable.\",\n",
    "    \"The app didn’t do what I wanted, but at least the icon looks nice.\",\n",
    "    \"It's amazing how it manages to get worse with every single update.\"\n",
    "]\n",
    "\n",
    "def mistral_sentiment(review):\n",
    "    prompt = (\n",
    "        \"Classify the sentiment of the following app review as Positive, Negative, Neutral, or Unsure. \"\n",
    "        \"Be careful to detect sarcasm, irony, and backhanded compliments. \"\n",
    "        \"If sarcasm is detected, classify the sentiment based on intent, not literal meaning.\\n\\n\"\n",
    "        f\"Review: \\\"{review}\\\"\"\n",
    "    )\n",
    "    \n",
    "    response = ollama.chat(\n",
    "        model='mistral',\n",
    "        messages=[\n",
    "            {\"role\": \"system\", \"content\": \"You are an advanced sentiment analysis model trained to detect sarcasm, irony, and subtle emotional contradictions.\"},\n",
    "            {\"role\": \"user\", \"content\": prompt}\n",
    "        ]\n",
    "    )\n",
    "    \n",
    "    return response['message']['content'].strip()\n",
    "\n",
    "# Run the test on all sarcasm traps\n",
    "for trap in sarcasm_traps:\n",
    "    print(f\"Review: {trap}\")\n",
    "    print(f\"Sentiment: {mistral_sentiment(trap)}\")\n",
    "    print(\"-\" * 50)"
   ]
  },
  {
   "cell_type": "code",
   "execution_count": 1,
   "id": "3494b6c6-5199-4873-9ef4-8fe4b40a0034",
   "metadata": {},
   "outputs": [],
   "source": [
    "import ollama\n",
    "import pandas as pd\n",
    "from tqdm import tqdm\n",
    "\n",
    "# Define inference function\n",
    "def mistral_sentiment(review):\n",
    "    prompt = (\n",
    "        \"Classify the sentiment of the following app review as Positive, Negative, Neutral, or Unsure. \"\n",
    "        \"Be careful to detect sarcasm, irony, and backhanded compliments. \"\n",
    "        \"If sarcasm is detected, classify the sentiment based on intent, not literal meaning.\\n\\n\"\n",
    "        f\"Review: \\\"{review}\\\"\"\n",
    "    )\n",
    "    try:\n",
    "        response = ollama.chat(\n",
    "            model='mistral',\n",
    "            messages=[\n",
    "                {\"role\": \"system\", \"content\": \"You are a sarcasm-aware sentiment analysis model.\"},\n",
    "                {\"role\": \"user\", \"content\": prompt}\n",
    "            ]\n",
    "        )\n",
    "        return response['message']['content'].strip()\n",
    "    except Exception as e:\n",
    "        return f\"Error: {e}\""
   ]
  },
  {
   "cell_type": "code",
   "execution_count": 2,
   "id": "b05259d6-6b0c-464f-8e8c-e88b4514e760",
   "metadata": {},
   "outputs": [
    {
     "name": "stderr",
     "output_type": "stream",
     "text": [
      "100%|████████████████████████████████████████████████████████████████████████████████| 534/534 [18:27<00:00,  2.07s/it]\n"
     ]
    },
    {
     "name": "stdout",
     "output_type": "stream",
     "text": [
      "Sentiment analysis complete. Results saved to 'mistral_sentiment_output.xlsx'.\n"
     ]
    }
   ],
   "source": [
    "df = pd.read_csv(\"cleaned_reviews.csv\")\n",
    "tqdm.pandas()  # Show progress bar\n",
    "reviews = df[\"review\"].tolist()\n",
    "df['mistral_sentiment'] = df['review'].progress_apply(mistral_sentiment)\n",
    "df.to_excel(\"mistral_sentiment_output.xlsx\", index=False)\n",
    "print(\"Sentiment analysis complete. Results saved to 'mistral_sentiment_output.xlsx'.\")"
   ]
  },
  {
   "cell_type": "code",
   "execution_count": null,
   "id": "663e7ff6-ed40-4c79-bba4-ab6592995651",
   "metadata": {},
   "outputs": [],
   "source": []
  }
 ],
 "metadata": {
  "kernelspec": {
   "display_name": "Python 3 (ipykernel)",
   "language": "python",
   "name": "python3"
  },
  "language_info": {
   "codemirror_mode": {
    "name": "ipython",
    "version": 3
   },
   "file_extension": ".py",
   "mimetype": "text/x-python",
   "name": "python",
   "nbconvert_exporter": "python",
   "pygments_lexer": "ipython3",
   "version": "3.12.6"
  }
 },
 "nbformat": 4,
 "nbformat_minor": 5
}
